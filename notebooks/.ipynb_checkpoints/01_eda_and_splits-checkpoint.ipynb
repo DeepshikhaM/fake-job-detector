{
 "cells": [
  {
   "cell_type": "markdown",
   "id": "47c959e7",
   "metadata": {},
   "source": [
    "## ML Flow Setup"
   ]
  },
  {
   "cell_type": "code",
   "execution_count": 1,
   "id": "79e96b57",
   "metadata": {},
   "outputs": [
    {
     "data": {
      "text/plain": [
       "<Experiment: artifact_location='mlflow-artifacts:/277809539050116112', creation_time=1758745692533, experiment_id='277809539050116112', last_update_time=1758745692533, lifecycle_stage='active', name='fake-job-detector', tags={'mlflow.experimentKind': 'custom_model_development'}>"
      ]
     },
     "execution_count": 1,
     "metadata": {},
     "output_type": "execute_result"
    }
   ],
   "source": [
    "import mlflow\n",
    "mlflow.set_tracking_uri(\"http://127.0.0.1:5000\")\n",
    "mlflow.set_experiment(\"fake-job-detector\")\n"
   ]
  },
  {
   "cell_type": "markdown",
   "id": "ab667f1d",
   "metadata": {},
   "source": [
    "## Imports and load"
   ]
  },
  {
   "cell_type": "code",
   "execution_count": 2,
   "id": "da342d7c",
   "metadata": {
    "scrolled": true
   },
   "outputs": [
    {
     "data": {
      "text/html": [
       "<div>\n",
       "<style scoped>\n",
       "    .dataframe tbody tr th:only-of-type {\n",
       "        vertical-align: middle;\n",
       "    }\n",
       "\n",
       "    .dataframe tbody tr th {\n",
       "        vertical-align: top;\n",
       "    }\n",
       "\n",
       "    .dataframe thead th {\n",
       "        text-align: right;\n",
       "    }\n",
       "</style>\n",
       "<table border=\"1\" class=\"dataframe\">\n",
       "  <thead>\n",
       "    <tr style=\"text-align: right;\">\n",
       "      <th></th>\n",
       "      <th>job_id</th>\n",
       "      <th>title</th>\n",
       "      <th>location</th>\n",
       "      <th>department</th>\n",
       "      <th>salary_range</th>\n",
       "      <th>company_profile</th>\n",
       "      <th>description</th>\n",
       "      <th>requirements</th>\n",
       "      <th>benefits</th>\n",
       "      <th>telecommuting</th>\n",
       "      <th>has_company_logo</th>\n",
       "      <th>has_questions</th>\n",
       "      <th>employment_type</th>\n",
       "      <th>required_experience</th>\n",
       "      <th>required_education</th>\n",
       "      <th>industry</th>\n",
       "      <th>function</th>\n",
       "      <th>fraudulent</th>\n",
       "    </tr>\n",
       "  </thead>\n",
       "  <tbody>\n",
       "    <tr>\n",
       "      <th>0</th>\n",
       "      <td>1</td>\n",
       "      <td>Marketing Intern</td>\n",
       "      <td>US, NY, New York</td>\n",
       "      <td>Marketing</td>\n",
       "      <td>NaN</td>\n",
       "      <td>We're Food52, and we've created a groundbreaki...</td>\n",
       "      <td>Food52, a fast-growing, James Beard Award-winn...</td>\n",
       "      <td>Experience with content management systems a m...</td>\n",
       "      <td>NaN</td>\n",
       "      <td>0</td>\n",
       "      <td>1</td>\n",
       "      <td>0</td>\n",
       "      <td>Other</td>\n",
       "      <td>Internship</td>\n",
       "      <td>NaN</td>\n",
       "      <td>NaN</td>\n",
       "      <td>Marketing</td>\n",
       "      <td>0</td>\n",
       "    </tr>\n",
       "    <tr>\n",
       "      <th>1</th>\n",
       "      <td>2</td>\n",
       "      <td>Customer Service - Cloud Video Production</td>\n",
       "      <td>NZ, , Auckland</td>\n",
       "      <td>Success</td>\n",
       "      <td>NaN</td>\n",
       "      <td>90 Seconds, the worlds Cloud Video Production ...</td>\n",
       "      <td>Organised - Focused - Vibrant - Awesome!Do you...</td>\n",
       "      <td>What we expect from you:Your key responsibilit...</td>\n",
       "      <td>What you will get from usThrough being part of...</td>\n",
       "      <td>0</td>\n",
       "      <td>1</td>\n",
       "      <td>0</td>\n",
       "      <td>Full-time</td>\n",
       "      <td>Not Applicable</td>\n",
       "      <td>NaN</td>\n",
       "      <td>Marketing and Advertising</td>\n",
       "      <td>Customer Service</td>\n",
       "      <td>0</td>\n",
       "    </tr>\n",
       "    <tr>\n",
       "      <th>2</th>\n",
       "      <td>3</td>\n",
       "      <td>Commissioning Machinery Assistant (CMA)</td>\n",
       "      <td>US, IA, Wever</td>\n",
       "      <td>NaN</td>\n",
       "      <td>NaN</td>\n",
       "      <td>Valor Services provides Workforce Solutions th...</td>\n",
       "      <td>Our client, located in Houston, is actively se...</td>\n",
       "      <td>Implement pre-commissioning and commissioning ...</td>\n",
       "      <td>NaN</td>\n",
       "      <td>0</td>\n",
       "      <td>1</td>\n",
       "      <td>0</td>\n",
       "      <td>NaN</td>\n",
       "      <td>NaN</td>\n",
       "      <td>NaN</td>\n",
       "      <td>NaN</td>\n",
       "      <td>NaN</td>\n",
       "      <td>0</td>\n",
       "    </tr>\n",
       "    <tr>\n",
       "      <th>3</th>\n",
       "      <td>4</td>\n",
       "      <td>Account Executive - Washington DC</td>\n",
       "      <td>US, DC, Washington</td>\n",
       "      <td>Sales</td>\n",
       "      <td>NaN</td>\n",
       "      <td>Our passion for improving quality of life thro...</td>\n",
       "      <td>THE COMPANY: ESRI – Environmental Systems Rese...</td>\n",
       "      <td>EDUCATION: Bachelor’s or Master’s in GIS, busi...</td>\n",
       "      <td>Our culture is anything but corporate—we have ...</td>\n",
       "      <td>0</td>\n",
       "      <td>1</td>\n",
       "      <td>0</td>\n",
       "      <td>Full-time</td>\n",
       "      <td>Mid-Senior level</td>\n",
       "      <td>Bachelor's Degree</td>\n",
       "      <td>Computer Software</td>\n",
       "      <td>Sales</td>\n",
       "      <td>0</td>\n",
       "    </tr>\n",
       "    <tr>\n",
       "      <th>4</th>\n",
       "      <td>5</td>\n",
       "      <td>Bill Review Manager</td>\n",
       "      <td>US, FL, Fort Worth</td>\n",
       "      <td>NaN</td>\n",
       "      <td>NaN</td>\n",
       "      <td>SpotSource Solutions LLC is a Global Human Cap...</td>\n",
       "      <td>JOB TITLE: Itemization Review ManagerLOCATION:...</td>\n",
       "      <td>QUALIFICATIONS:RN license in the State of Texa...</td>\n",
       "      <td>Full Benefits Offered</td>\n",
       "      <td>0</td>\n",
       "      <td>1</td>\n",
       "      <td>1</td>\n",
       "      <td>Full-time</td>\n",
       "      <td>Mid-Senior level</td>\n",
       "      <td>Bachelor's Degree</td>\n",
       "      <td>Hospital &amp; Health Care</td>\n",
       "      <td>Health Care Provider</td>\n",
       "      <td>0</td>\n",
       "    </tr>\n",
       "  </tbody>\n",
       "</table>\n",
       "</div>"
      ],
      "text/plain": [
       "   job_id                                      title            location  \\\n",
       "0       1                           Marketing Intern    US, NY, New York   \n",
       "1       2  Customer Service - Cloud Video Production      NZ, , Auckland   \n",
       "2       3    Commissioning Machinery Assistant (CMA)       US, IA, Wever   \n",
       "3       4          Account Executive - Washington DC  US, DC, Washington   \n",
       "4       5                        Bill Review Manager  US, FL, Fort Worth   \n",
       "\n",
       "  department salary_range                                    company_profile  \\\n",
       "0  Marketing          NaN  We're Food52, and we've created a groundbreaki...   \n",
       "1    Success          NaN  90 Seconds, the worlds Cloud Video Production ...   \n",
       "2        NaN          NaN  Valor Services provides Workforce Solutions th...   \n",
       "3      Sales          NaN  Our passion for improving quality of life thro...   \n",
       "4        NaN          NaN  SpotSource Solutions LLC is a Global Human Cap...   \n",
       "\n",
       "                                         description  \\\n",
       "0  Food52, a fast-growing, James Beard Award-winn...   \n",
       "1  Organised - Focused - Vibrant - Awesome!Do you...   \n",
       "2  Our client, located in Houston, is actively se...   \n",
       "3  THE COMPANY: ESRI – Environmental Systems Rese...   \n",
       "4  JOB TITLE: Itemization Review ManagerLOCATION:...   \n",
       "\n",
       "                                        requirements  \\\n",
       "0  Experience with content management systems a m...   \n",
       "1  What we expect from you:Your key responsibilit...   \n",
       "2  Implement pre-commissioning and commissioning ...   \n",
       "3  EDUCATION: Bachelor’s or Master’s in GIS, busi...   \n",
       "4  QUALIFICATIONS:RN license in the State of Texa...   \n",
       "\n",
       "                                            benefits  telecommuting  \\\n",
       "0                                                NaN              0   \n",
       "1  What you will get from usThrough being part of...              0   \n",
       "2                                                NaN              0   \n",
       "3  Our culture is anything but corporate—we have ...              0   \n",
       "4                              Full Benefits Offered              0   \n",
       "\n",
       "   has_company_logo  has_questions employment_type required_experience  \\\n",
       "0                 1              0           Other          Internship   \n",
       "1                 1              0       Full-time      Not Applicable   \n",
       "2                 1              0             NaN                 NaN   \n",
       "3                 1              0       Full-time    Mid-Senior level   \n",
       "4                 1              1       Full-time    Mid-Senior level   \n",
       "\n",
       "  required_education                   industry              function  \\\n",
       "0                NaN                        NaN             Marketing   \n",
       "1                NaN  Marketing and Advertising      Customer Service   \n",
       "2                NaN                        NaN                   NaN   \n",
       "3  Bachelor's Degree          Computer Software                 Sales   \n",
       "4  Bachelor's Degree     Hospital & Health Care  Health Care Provider   \n",
       "\n",
       "   fraudulent  \n",
       "0           0  \n",
       "1           0  \n",
       "2           0  \n",
       "3           0  \n",
       "4           0  "
      ]
     },
     "execution_count": 2,
     "metadata": {},
     "output_type": "execute_result"
    }
   ],
   "source": [
    "import warnings\n",
    "warnings.filterwarnings(\"ignore\")\n",
    "\n",
    "import os\n",
    "import json\n",
    "import numpy as np\n",
    "import pandas as pd\n",
    "import matplotlib.pyplot as plt\n",
    "import seaborn as sns\n",
    "\n",
    "# Paths\n",
    "raw_path = \"../data/raw/fake_job_postings.csv\"\n",
    "proc_dir = \"../data/processed\"\n",
    "os.makedirs(proc_dir, exist_ok=True)\n",
    "\n",
    "# Load raw\n",
    "df = pd.read_csv(raw_path)\n",
    "df.head()\n"
   ]
  },
  {
   "cell_type": "markdown",
   "id": "3734d116",
   "metadata": {},
   "source": [
    "## Basic audit\n",
    "\n"
   ]
  },
  {
   "cell_type": "code",
   "execution_count": 3,
   "id": "8058f016",
   "metadata": {},
   "outputs": [
    {
     "data": {
      "text/html": [
       "<div>\n",
       "<style scoped>\n",
       "    .dataframe tbody tr th:only-of-type {\n",
       "        vertical-align: middle;\n",
       "    }\n",
       "\n",
       "    .dataframe tbody tr th {\n",
       "        vertical-align: top;\n",
       "    }\n",
       "\n",
       "    .dataframe thead th {\n",
       "        text-align: right;\n",
       "    }\n",
       "</style>\n",
       "<table border=\"1\" class=\"dataframe\">\n",
       "  <thead>\n",
       "    <tr style=\"text-align: right;\">\n",
       "      <th></th>\n",
       "      <th>share</th>\n",
       "    </tr>\n",
       "    <tr>\n",
       "      <th>fraudulent</th>\n",
       "      <th></th>\n",
       "    </tr>\n",
       "  </thead>\n",
       "  <tbody>\n",
       "    <tr>\n",
       "      <th>0</th>\n",
       "      <td>0.951566</td>\n",
       "    </tr>\n",
       "    <tr>\n",
       "      <th>1</th>\n",
       "      <td>0.048434</td>\n",
       "    </tr>\n",
       "  </tbody>\n",
       "</table>\n",
       "</div>"
      ],
      "text/plain": [
       "               share\n",
       "fraudulent          \n",
       "0           0.951566\n",
       "1           0.048434"
      ]
     },
     "metadata": {},
     "output_type": "display_data"
    },
    {
     "data": {
      "text/plain": [
       "salary_range           0.839597\n",
       "department             0.645805\n",
       "required_education     0.453300\n",
       "benefits               0.403356\n",
       "required_experience    0.394295\n",
       "function               0.361018\n",
       "industry               0.274217\n",
       "employment_type        0.194128\n",
       "company_profile        0.185011\n",
       "requirements           0.150783\n",
       "location               0.019351\n",
       "description            0.000056\n",
       "title                  0.000000\n",
       "job_id                 0.000000\n",
       "telecommuting          0.000000\n",
       "Name: missing_rate, dtype: float64"
      ]
     },
     "metadata": {},
     "output_type": "display_data"
    }
   ],
   "source": [
    "# Class balance\n",
    "class_share = df[\"fraudulent\"].value_counts(normalize=True).rename(\"share\").to_frame()\n",
    "display(class_share)\n",
    "\n",
    "# Missing values top 15\n",
    "missing = df.isna().mean().sort_values(ascending=False).head(15).rename(\"missing_rate\")\n",
    "display(missing)\n"
   ]
  },
  {
   "cell_type": "markdown",
   "id": "2531634a",
   "metadata": {},
   "source": [
    "## Text length features"
   ]
  },
  {
   "cell_type": "code",
   "execution_count": 4,
   "id": "ba74f4c3",
   "metadata": {},
   "outputs": [
    {
     "data": {
      "text/html": [
       "<div>\n",
       "<style scoped>\n",
       "    .dataframe tbody tr th:only-of-type {\n",
       "        vertical-align: middle;\n",
       "    }\n",
       "\n",
       "    .dataframe tbody tr th {\n",
       "        vertical-align: top;\n",
       "    }\n",
       "\n",
       "    .dataframe thead th {\n",
       "        text-align: right;\n",
       "    }\n",
       "</style>\n",
       "<table border=\"1\" class=\"dataframe\">\n",
       "  <thead>\n",
       "    <tr style=\"text-align: right;\">\n",
       "      <th></th>\n",
       "      <th>title</th>\n",
       "      <th>company_profile</th>\n",
       "      <th>description</th>\n",
       "      <th>requirements</th>\n",
       "      <th>benefits</th>\n",
       "      <th>title_len</th>\n",
       "      <th>company_profile_len</th>\n",
       "      <th>description_len</th>\n",
       "      <th>requirements_len</th>\n",
       "      <th>benefits_len</th>\n",
       "    </tr>\n",
       "  </thead>\n",
       "  <tbody>\n",
       "    <tr>\n",
       "      <th>0</th>\n",
       "      <td>Marketing Intern</td>\n",
       "      <td>We're Food52, and we've created a groundbreaki...</td>\n",
       "      <td>Food52, a fast-growing, James Beard Award-winn...</td>\n",
       "      <td>Experience with content management systems a m...</td>\n",
       "      <td>NaN</td>\n",
       "      <td>2</td>\n",
       "      <td>141</td>\n",
       "      <td>124</td>\n",
       "      <td>115</td>\n",
       "      <td>0</td>\n",
       "    </tr>\n",
       "    <tr>\n",
       "      <th>1</th>\n",
       "      <td>Customer Service - Cloud Video Production</td>\n",
       "      <td>90 Seconds, the worlds Cloud Video Production ...</td>\n",
       "      <td>Organised - Focused - Vibrant - Awesome!Do you...</td>\n",
       "      <td>What we expect from you:Your key responsibilit...</td>\n",
       "      <td>What you will get from usThrough being part of...</td>\n",
       "      <td>6</td>\n",
       "      <td>153</td>\n",
       "      <td>315</td>\n",
       "      <td>200</td>\n",
       "      <td>227</td>\n",
       "    </tr>\n",
       "    <tr>\n",
       "      <th>2</th>\n",
       "      <td>Commissioning Machinery Assistant (CMA)</td>\n",
       "      <td>Valor Services provides Workforce Solutions th...</td>\n",
       "      <td>Our client, located in Houston, is actively se...</td>\n",
       "      <td>Implement pre-commissioning and commissioning ...</td>\n",
       "      <td>NaN</td>\n",
       "      <td>4</td>\n",
       "      <td>141</td>\n",
       "      <td>50</td>\n",
       "      <td>164</td>\n",
       "      <td>0</td>\n",
       "    </tr>\n",
       "  </tbody>\n",
       "</table>\n",
       "</div>"
      ],
      "text/plain": [
       "                                       title  \\\n",
       "0                           Marketing Intern   \n",
       "1  Customer Service - Cloud Video Production   \n",
       "2    Commissioning Machinery Assistant (CMA)   \n",
       "\n",
       "                                     company_profile  \\\n",
       "0  We're Food52, and we've created a groundbreaki...   \n",
       "1  90 Seconds, the worlds Cloud Video Production ...   \n",
       "2  Valor Services provides Workforce Solutions th...   \n",
       "\n",
       "                                         description  \\\n",
       "0  Food52, a fast-growing, James Beard Award-winn...   \n",
       "1  Organised - Focused - Vibrant - Awesome!Do you...   \n",
       "2  Our client, located in Houston, is actively se...   \n",
       "\n",
       "                                        requirements  \\\n",
       "0  Experience with content management systems a m...   \n",
       "1  What we expect from you:Your key responsibilit...   \n",
       "2  Implement pre-commissioning and commissioning ...   \n",
       "\n",
       "                                            benefits  title_len  \\\n",
       "0                                                NaN          2   \n",
       "1  What you will get from usThrough being part of...          6   \n",
       "2                                                NaN          4   \n",
       "\n",
       "   company_profile_len  description_len  requirements_len  benefits_len  \n",
       "0                  141              124               115             0  \n",
       "1                  153              315               200           227  \n",
       "2                  141               50               164             0  "
      ]
     },
     "execution_count": 4,
     "metadata": {},
     "output_type": "execute_result"
    }
   ],
   "source": [
    "text_cols = [\"title\",\"company_profile\",\"description\",\"requirements\",\"benefits\"]\n",
    "for c in text_cols:\n",
    "    if c in df.columns:\n",
    "        df[f\"{c}_len\"] = df[c].fillna(\"\").str.split().str.len()\n",
    "\n",
    "df[text_cols + [f\"{c}_len\" for c in text_cols if f\"{c}_len\" in df.columns]].head(3)\n"
   ]
  },
  {
   "cell_type": "markdown",
   "id": "61048b16",
   "metadata": {},
   "source": [
    "##  Plot helper"
   ]
  },
  {
   "cell_type": "code",
   "execution_count": 5,
   "id": "f3eb5153",
   "metadata": {},
   "outputs": [],
   "source": [
    "def plot_hist(series, bins=50, title=\"\", xlabel=\"\"):\n",
    "    fig, ax = plt.subplots(figsize=(6,4))\n",
    "    sns.histplot(series.dropna(), bins=bins, ax=ax)\n",
    "    ax.set_title(title)\n",
    "    ax.set_xlabel(xlabel or series.name)\n",
    "    ax.set_ylabel(\"Count\")\n",
    "    fig.tight_layout()\n",
    "    return fig\n"
   ]
  },
  {
   "cell_type": "markdown",
   "id": "c0110f24",
   "metadata": {},
   "source": [
    "## Log EDA figures to MLflow"
   ]
  },
  {
   "cell_type": "code",
   "execution_count": 6,
   "id": "b0f4caad",
   "metadata": {
    "scrolled": false
   },
   "outputs": [
    {
     "name": "stdout",
     "output_type": "stream",
     "text": [
      "🏃 View run eda_v1 at: http://127.0.0.1:5000/#/experiments/277809539050116112/runs/ea9b225dbab54e2c819a45e8bcc12e7b\n",
      "🧪 View experiment at: http://127.0.0.1:5000/#/experiments/277809539050116112\n"
     ]
    },
    {
     "data": {
      "image/png": "[encoded data removed]",
      "text/plain": [
       "<Figure size 500x400 with 1 Axes>"
      ]
     },
     "metadata": {},
     "output_type": "display_data"
    },
    {
     "data": {
      "image/png": "[encoded data removed]",
      "text/plain": [
       "<Figure size 600x400 with 1 Axes>"
      ]
     },
     "metadata": {},
     "output_type": "display_data"
    },
    {
     "data": {
      "image/png": "[encoded data removed]",
      "text/plain": [
       "<Figure size 600x400 with 1 Axes>"
      ]
     },
     "metadata": {},
     "output_type": "display_data"
    },
    {
     "data": {
      "image/png": "[encoded data removed]",
      "text/plain": [
       "<Figure size 600x400 with 1 Axes>"
      ]
     },
     "metadata": {},
     "output_type": "display_data"
    },
    {
     "data": {
      "image/png": "[encoded data removed]",
      "text/plain": [
       "<Figure size 600x400 with 1 Axes>"
      ]
     },
     "metadata": {},
     "output_type": "display_data"
    },
    {
     "data": {
      "image/png": "[encoded data removed]",
      "text/plain": [
       "<Figure size 600x400 with 1 Axes>"
      ]
     },
     "metadata": {},
     "output_type": "display_data"
    },
    {
     "data": {
      "image/png": "[encoded data removed]",
      "text/plain": [
       "<Figure size 600x400 with 1 Axes>"
      ]
     },
     "metadata": {},
     "output_type": "display_data"
    }
   ],
   "source": [
    "with mlflow.start_run(run_name=\"eda_v1\"):\n",
    "    # Class balance bar\n",
    "    fig_cb, ax = plt.subplots(figsize=(5,4))\n",
    "    class_share[\"share\"].plot(kind=\"bar\", ax=ax, title=\"Class balance (share)\")\n",
    "    ax.set_ylabel(\"Share\")\n",
    "    fig_cb.tight_layout()\n",
    "    mlflow.log_figure(fig_cb, \"eda/class_balance.png\")\n",
    "\n",
    "    # Length histograms\n",
    "    for c in text_cols:\n",
    "        len_col = f\"{c}_len\"\n",
    "        if len_col in df.columns:\n",
    "            fig = plot_hist(df[len_col], bins=50, title=f\"{c} word count\", xlabel=len_col)\n",
    "            mlflow.log_figure(fig, f\"eda/{len_col}_hist.png\")\n",
    "\n",
    "    # Missingness bar (top 15)\n",
    "    fig_m, ax = plt.subplots(figsize=(6,4))\n",
    "    missing.sort_values(ascending=False).plot(kind=\"bar\", ax=ax, title=\"Missingness (top 15)\")\n",
    "    ax.set_ylabel(\"Missing rate\")\n",
    "    fig_m.tight_layout()\n",
    "    mlflow.log_figure(fig_m, \"eda/missing_top15.png\")\n"
   ]
  },
  {
   "cell_type": "markdown",
   "id": "73052a32",
   "metadata": {},
   "source": [
    "1. All fields show right‑skewed, long‑tailed length distributions, so most posts are short-to-moderate with a small set of very long outliers to cap or clip at high percentiles.\n",
    "</br>\n",
    "2. Relative lengths are consistent: titles are the shortest, descriptions the longest, with requirements and company profiles in between; plan features and max token limits accordingly.\n",
    "</br>\n",
    "3. Benefits text is often empty or very short; add a binary “has_benefits” feature alongside its text to capture informative absence/presence signal.\n",
    "</br>\n",
    "4. Short fields (titles, many requirements) benefit from n‑grams and simple pattern counts (URLs, emails, numbers), while long fields need TF‑IDF caps and normalization to avoid dominance by a few lengthy posts.\n",
    "</br>\n",
    "5. Check per‑label length differences and deduplicate boilerplate company/benefits text to prevent leakage; log these choices in the EDA so modeling decisions are reproducible."
   ]
  },
  {
   "cell_type": "markdown",
   "id": "7088e0a3",
   "metadata": {},
   "source": [
    "## Build df_proc and concatenate text"
   ]
  },
  {
   "cell_type": "code",
   "execution_count": 7,
   "id": "1c932f0d",
   "metadata": {},
   "outputs": [
    {
     "data": {
      "text/html": [
       "<div>\n",
       "<style scoped>\n",
       "    .dataframe tbody tr th:only-of-type {\n",
       "        vertical-align: middle;\n",
       "    }\n",
       "\n",
       "    .dataframe tbody tr th {\n",
       "        vertical-align: top;\n",
       "    }\n",
       "\n",
       "    .dataframe thead th {\n",
       "        text-align: right;\n",
       "    }\n",
       "</style>\n",
       "<table border=\"1\" class=\"dataframe\">\n",
       "  <thead>\n",
       "    <tr style=\"text-align: right;\">\n",
       "      <th></th>\n",
       "      <th>job_id</th>\n",
       "      <th>title</th>\n",
       "      <th>location</th>\n",
       "      <th>department</th>\n",
       "      <th>salary_range</th>\n",
       "      <th>company_profile</th>\n",
       "      <th>description</th>\n",
       "      <th>requirements</th>\n",
       "      <th>benefits</th>\n",
       "      <th>telecommuting</th>\n",
       "      <th>...</th>\n",
       "      <th>required_education</th>\n",
       "      <th>industry</th>\n",
       "      <th>function</th>\n",
       "      <th>fraudulent</th>\n",
       "      <th>title_len</th>\n",
       "      <th>company_profile_len</th>\n",
       "      <th>description_len</th>\n",
       "      <th>requirements_len</th>\n",
       "      <th>benefits_len</th>\n",
       "      <th>text_all</th>\n",
       "    </tr>\n",
       "  </thead>\n",
       "  <tbody>\n",
       "    <tr>\n",
       "      <th>0</th>\n",
       "      <td>1</td>\n",
       "      <td>Marketing Intern</td>\n",
       "      <td>US, NY, New York</td>\n",
       "      <td>Marketing</td>\n",
       "      <td>NaN</td>\n",
       "      <td>We're Food52, and we've created a groundbreaki...</td>\n",
       "      <td>Food52, a fast-growing, James Beard Award-winn...</td>\n",
       "      <td>Experience with content management systems a m...</td>\n",
       "      <td>NaN</td>\n",
       "      <td>0</td>\n",
       "      <td>...</td>\n",
       "      <td>NaN</td>\n",
       "      <td>NaN</td>\n",
       "      <td>Marketing</td>\n",
       "      <td>0</td>\n",
       "      <td>2</td>\n",
       "      <td>141</td>\n",
       "      <td>124</td>\n",
       "      <td>115</td>\n",
       "      <td>0</td>\n",
       "      <td>Marketing Intern We're Food52, and we've creat...</td>\n",
       "    </tr>\n",
       "    <tr>\n",
       "      <th>1</th>\n",
       "      <td>2</td>\n",
       "      <td>Customer Service - Cloud Video Production</td>\n",
       "      <td>NZ, , Auckland</td>\n",
       "      <td>Success</td>\n",
       "      <td>NaN</td>\n",
       "      <td>90 Seconds, the worlds Cloud Video Production ...</td>\n",
       "      <td>Organised - Focused - Vibrant - Awesome!Do you...</td>\n",
       "      <td>What we expect from you:Your key responsibilit...</td>\n",
       "      <td>What you will get from usThrough being part of...</td>\n",
       "      <td>0</td>\n",
       "      <td>...</td>\n",
       "      <td>NaN</td>\n",
       "      <td>Marketing and Advertising</td>\n",
       "      <td>Customer Service</td>\n",
       "      <td>0</td>\n",
       "      <td>6</td>\n",
       "      <td>153</td>\n",
       "      <td>315</td>\n",
       "      <td>200</td>\n",
       "      <td>227</td>\n",
       "      <td>What you will get from usThrough being part of...</td>\n",
       "    </tr>\n",
       "  </tbody>\n",
       "</table>\n",
       "<p>2 rows × 24 columns</p>\n",
       "</div>"
      ],
      "text/plain": [
       "   job_id                                      title          location  \\\n",
       "0       1                           Marketing Intern  US, NY, New York   \n",
       "1       2  Customer Service - Cloud Video Production    NZ, , Auckland   \n",
       "\n",
       "  department salary_range                                    company_profile  \\\n",
       "0  Marketing          NaN  We're Food52, and we've created a groundbreaki...   \n",
       "1    Success          NaN  90 Seconds, the worlds Cloud Video Production ...   \n",
       "\n",
       "                                         description  \\\n",
       "0  Food52, a fast-growing, James Beard Award-winn...   \n",
       "1  Organised - Focused - Vibrant - Awesome!Do you...   \n",
       "\n",
       "                                        requirements  \\\n",
       "0  Experience with content management systems a m...   \n",
       "1  What we expect from you:Your key responsibilit...   \n",
       "\n",
       "                                            benefits  telecommuting  ...  \\\n",
       "0                                                NaN              0  ...   \n",
       "1  What you will get from usThrough being part of...              0  ...   \n",
       "\n",
       "   required_education                   industry          function fraudulent  \\\n",
       "0                 NaN                        NaN         Marketing          0   \n",
       "1                 NaN  Marketing and Advertising  Customer Service          0   \n",
       "\n",
       "  title_len company_profile_len description_len  requirements_len  \\\n",
       "0         2                 141             124               115   \n",
       "1         6                 153             315               200   \n",
       "\n",
       "   benefits_len                                           text_all  \n",
       "0             0  Marketing Intern We're Food52, and we've creat...  \n",
       "1           227  What you will get from usThrough being part of...  \n",
       "\n",
       "[2 rows x 24 columns]"
      ]
     },
     "execution_count": 7,
     "metadata": {},
     "output_type": "execute_result"
    }
   ],
   "source": [
    "def concat_text(df_):\n",
    "    cols = [\"title\",\"company_profile\",\"description\",\"requirements\",\"benefits\"]\n",
    "    return sum([df_[c].fillna(\"\") + \" \" for c in cols[0:4]], df_[cols[4]].fillna(\"\"))\n",
    "\n",
    "df_proc = df.copy()\n",
    "df_proc[\"text_all\"] = concat_text(df_proc)\n",
    "df_proc.head(2)\n"
   ]
  },
  {
   "cell_type": "markdown",
   "id": "0f89ec6d",
   "metadata": {},
   "source": [
    "## Train/valid/test split (stratified 70/15/15)"
   ]
  },
  {
   "cell_type": "code",
   "execution_count": 8,
   "id": "bfd0f29b",
   "metadata": {},
   "outputs": [
    {
     "name": "stdout",
     "output_type": "stream",
     "text": [
      "Overall share: 0.04843400447427293\n",
      "Train share:   0.048418024928092045\n",
      "Valid share:   0.048471290082028336\n",
      "Test share:    0.048471290082028336\n"
     ]
    }
   ],
   "source": [
    "from sklearn.model_selection import train_test_split\n",
    "\n",
    "SEED = 42\n",
    "train_df, temp_df = train_test_split(\n",
    "    df_proc, test_size=0.30, random_state=SEED, stratify=df_proc[\"fraudulent\"]\n",
    ")\n",
    "valid_df, test_df = train_test_split(\n",
    "    temp_df, test_size=0.50, random_state=SEED, stratify=temp_df[\"fraudulent\"]\n",
    ")\n",
    "\n",
    "print(\"Overall share:\", df[\"fraudulent\"].mean())\n",
    "print(\"Train share:  \", train_df[\"fraudulent\"].mean())\n",
    "print(\"Valid share:  \", valid_df[\"fraudulent\"].mean())\n",
    "print(\"Test share:   \", test_df[\"fraudulent\"].mean())\n"
   ]
  },
  {
   "cell_type": "markdown",
   "id": "2cc9fb3e",
   "metadata": {},
   "source": [
    "## Log split metadata to MLflow"
   ]
  },
  {
   "cell_type": "code",
   "execution_count": 9,
   "id": "4b8f55dc",
   "metadata": {},
   "outputs": [
    {
     "name": "stdout",
     "output_type": "stream",
     "text": [
      "🏃 View run splits_v1 at: http://127.0.0.1:5000/#/experiments/277809539050116112/runs/1c696d805548407ba3f743887b74c6ef\n",
      "🧪 View experiment at: http://127.0.0.1:5000/#/experiments/277809539050116112\n"
     ]
    }
   ],
   "source": [
    "with mlflow.start_run(run_name=\"splits_v1\"):\n",
    "    mlflow.log_dict(\n",
    "      {\"split\": {\"train\": int(len(train_df)), \"valid\": int(len(valid_df)), \"test\": int(len(test_df)), \"seed\": SEED}},\n",
    "      \"eda/splits.json\"\n",
    "    )\n",
    "    mlflow.log_text(\n",
    "      \"Stratified 70/15/15; fillna('') per text field; concat order title + company_profile + description + requirements + benefits.\",\n",
    "      \"eda/data_card.md\"\n",
    "    )\n"
   ]
  },
  {
   "cell_type": "code",
   "execution_count": null,
   "id": "a8899628",
   "metadata": {},
   "outputs": [],
   "source": []
  }
 ],
 "metadata": {
  "kernelspec": {
   "display_name": "Python (fakejobs-venv)",
   "language": "python",
   "name": "fakejobs-venv"
  },
  "language_info": {
   "codemirror_mode": {
    "name": "ipython",
    "version": 3
   },
   "file_extension": ".py",
   "mimetype": "text/x-python",
   "name": "python",
   "nbconvert_exporter": "python",
   "pygments_lexer": "ipython3",
   "version": "3.12.0"
  }
 },
 "nbformat": 4,
 "nbformat_minor": 5
}
