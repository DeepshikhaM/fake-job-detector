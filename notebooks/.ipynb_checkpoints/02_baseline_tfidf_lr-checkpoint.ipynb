{
 "cells": [
  {
   "cell_type": "code",
   "execution_count": 1,
   "id": "f685d778",
   "metadata": {
    "scrolled": false
   },
   "outputs": [
    {
     "name": "stdout",
     "output_type": "stream",
     "text": [
      "C:\\Users\\deeps\\OneDrive\\Desktop\\fake-job-detector\\.venv\\Scripts\\python.exe\n",
      "3.4.0\n"
     ]
    }
   ],
   "source": [
    "import sys, mlflow\n",
    "print(sys.executable)          # should end with \\.venv\\Scripts\\python.exe\n",
    "print(mlflow.__version__)      # confirms import works\n"
   ]
  },
  {
   "cell_type": "code",
   "execution_count": 2,
   "id": "2e85b2b8",
   "metadata": {},
   "outputs": [
    {
     "data": {
      "text/plain": [
       "<Experiment: artifact_location='mlflow-artifacts:/277809539050116112', creation_time=1758745692533, experiment_id='277809539050116112', last_update_time=1758745692533, lifecycle_stage='active', name='fake-job-detector', tags={'mlflow.experimentKind': 'custom_model_development'}>"
      ]
     },
     "execution_count": 2,
     "metadata": {},
     "output_type": "execute_result"
    }
   ],
   "source": [
    "import mlflow, mlflow.sklearn\n",
    "mlflow.set_tracking_uri(\"http://127.0.0.1:5000\")\n",
    "mlflow.set_experiment(\"fake-job-detector\")\n"
   ]
  },
  {
   "cell_type": "code",
   "execution_count": 4,
   "id": "9a8a2cdb",
   "metadata": {},
   "outputs": [
    {
     "name": "stdout",
     "output_type": "stream",
     "text": [
      "ROC-AUC: 0.9816229367735261\n",
      "              precision    recall  f1-score   support\n",
      "\n",
      "           0       0.99      0.99      0.99      2291\n",
      "           1       0.72      0.80      0.76       108\n",
      "\n",
      "    accuracy                           0.98      2399\n",
      "   macro avg       0.86      0.89      0.87      2399\n",
      "weighted avg       0.98      0.98      0.98      2399\n",
      "\n",
      "🏃 View run tfidf_lr_notebook_v1 at: http://127.0.0.1:5000/#/experiments/277809539050116112/runs/fb4fce5e1a8341a2bea3c4e48c935619\n",
      "🧪 View experiment at: http://127.0.0.1:5000/#/experiments/277809539050116112\n"
     ]
    },
    {
     "name": "stderr",
     "output_type": "stream",
     "text": [
      "2025/09/25 13:15:34 WARNING mlflow.models.model: `artifact_path` is deprecated. Please use `name` instead.\n",
      "2025/09/25 13:15:45 WARNING mlflow.models.model: Model logged without a signature and input example. Please set `input_example` parameter when logging the model to auto infer the model signature.\n"
     ]
    },
    {
     "data": {
      "text/plain": [
       "['assets/baseline_tfidf_lr.joblib']"
      ]
     },
     "execution_count": 4,
     "metadata": {},
     "output_type": "execute_result"
    },
    {
     "data": {
      "image/png": "[encoded data removed]",
      "text/plain": [
       "<Figure size 640x480 with 2 Axes>"
      ]
     },
     "metadata": {},
     "output_type": "display_data"
    }
   ],
   "source": [
    "# Imports\n",
    "import pandas as pd, joblib\n",
    "from sklearn.pipeline import Pipeline\n",
    "from sklearn.feature_extraction.text import TfidfVectorizer\n",
    "from sklearn.linear_model import LogisticRegression\n",
    "from sklearn.metrics import classification_report, roc_auc_score, ConfusionMatrixDisplay\n",
    "import matplotlib.pyplot as plt\n",
    "\n",
    "# Load splits\n",
    "train = pd.read_csv(\"../data/processed/train.csv\")\n",
    "valid = pd.read_csv(\"../data/processed/valid.csv\")\n",
    "\n",
    "# Concatenate text\n",
    "def concat_text(df):\n",
    "    cols = [\"title\",\"company_profile\",\"description\",\"requirements\",\"benefits\"]\n",
    "    return sum([df[c].fillna(\"\") + \" \" for c in cols[0:4]], df[cols[4]].fillna(\"\"))\n",
    "\n",
    "X_train, y_train = concat_text(train), train[\"fraudulent\"].astype(int)\n",
    "X_valid, y_valid = concat_text(valid), valid[\"fraudulent\"].astype(int)\n",
    "\n",
    "# Pipeline\n",
    "pipe = Pipeline([\n",
    "    (\"tfidf\", TfidfVectorizer(ngram_range=(1,2), min_df=3, max_features=200000)),\n",
    "    (\"clf\", LogisticRegression(max_iter=500, class_weight=\"balanced\", solver=\"lbfgs\")),\n",
    "])\n",
    "\n",
    "pipe.fit(X_train, y_train)\n",
    "proba = pipe.predict_proba(X_valid)[:,1]\n",
    "pred = (proba >= 0.5).astype(int)\n",
    "\n",
    "print(\"ROC-AUC:\", roc_auc_score(y_valid, proba))\n",
    "print(classification_report(y_valid, pred))\n",
    "\n",
    "\n",
    "roc = float(roc_auc_score(y_valid, proba))\n",
    "rpt = classification_report(y_valid, pred, output_dict=True)\n",
    "\n",
    "with mlflow.start_run(run_name=\"tfidf_lr_notebook_v1\"):\n",
    "    # params\n",
    "    mlflow.log_param(\"vectorizer\", \"tfidf\")\n",
    "    mlflow.log_param(\"ngram_range\", \"1-2\")\n",
    "    mlflow.log_param(\"min_df\", 3)\n",
    "    mlflow.log_param(\"max_features\", 200000)\n",
    "    mlflow.log_param(\"classifier\", \"logreg_lbfgs_balanced\")\n",
    "\n",
    "    # metrics\n",
    "    mlflow.log_metric(\"roc_auc\", roc)\n",
    "    mlflow.log_metric(\"f1_weighted\", float(rpt[\"weighted avg\"][\"f1-score\"]))\n",
    "    mlflow.log_metric(\"precision_weighted\", float(rpt[\"weighted avg\"][\"precision\"]))\n",
    "    mlflow.log_metric(\"recall_weighted\", float(rpt[\"weighted avg\"][\"recall\"]))\n",
    "\n",
    "\n",
    "# confusion matrix figure (reuse the same display)\n",
    "disp = ConfusionMatrixDisplay.from_predictions(y_valid, pred, display_labels=[\"real\",\"fake\"])\n",
    "plt.title(\"Validation Confusion Matrix\")\n",
    "mlflow.log_figure(disp.figure_, \"eval/confusion_matrix_valid.png\")\n",
    "\n",
    "# model artifact\n",
    "mlflow.sklearn.log_model(pipe, artifact_path=\"model\")\n",
    "\n",
    "# Save model\n",
    "import pathlib\n",
    "pathlib.Path(\"assets\").mkdir(exist_ok=True, parents=True)\n",
    "joblib.dump(pipe, \"assets/baseline_tfidf_lr.joblib\")\n"
   ]
  },
  {
   "cell_type": "markdown",
   "id": "8a30d073",
   "metadata": {},
   "source": [
    "- ROC–AUC ≈ 0.982 indicates excellent separability; a curve hugging the top‑left means high true‑positive rate at low false‑positive rate across thresholds.\n",
    "\n",
    "- At the 0.5 threshold, minority‑class precision ≈ 0.74 and recall ≈ 0.80 (F1 ≈ 0.76) align with a strong AUC while reflecting expected imbalance trade‑offs.\n",
    "\n",
    "- To cut false alarms, raise the decision threshold (≈0.55–0.70) to increase precision; to catch more scams, lower it (≈0.40–0.50) to increase recall.\n",
    "\n",
    "- Next, add a Precision–Recall curve and mark the chosen operating point, as PR can be more informative than ROC on imbalanced data"
   ]
  },
  {
   "cell_type": "code",
   "execution_count": null,
   "id": "78ff3bfb",
   "metadata": {},
   "outputs": [],
   "source": []
  }
 ],
 "metadata": {
  "kernelspec": {
   "display_name": "Python (fakejobs-venv)",
   "language": "python",
   "name": "fakejobs-venv"
  },
  "language_info": {
   "codemirror_mode": {
    "name": "ipython",
    "version": 3
   },
   "file_extension": ".py",
   "mimetype": "text/x-python",
   "name": "python",
   "nbconvert_exporter": "python",
   "pygments_lexer": "ipython3",
   "version": "3.12.0"
  }
 },
 "nbformat": 4,
 "nbformat_minor": 5
}
